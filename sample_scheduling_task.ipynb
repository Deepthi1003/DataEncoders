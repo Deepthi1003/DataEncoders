{
 "cells": [
  {
   "cell_type": "code",
   "execution_count": 1,
   "metadata": {},
   "outputs": [],
   "source": [
    "from pycricbuzz import Cricbuzz\n",
    "import json"
   ]
  },
  {
   "cell_type": "code",
   "execution_count": 2,
   "metadata": {},
   "outputs": [],
   "source": [
    "# fetches match id\n",
    "def match_id():\n",
    "    c = Cricbuzz()\n",
    "    matches = c.matches()\n",
    "    match = dict(matches[0])\n",
    "    match_id = 0\n",
    "    if match['srs'] == 'Indian Premier League 2020':\n",
    "        match_id = match['id']\n",
    "    return match_id"
   ]
  },
  {
   "cell_type": "code",
   "execution_count": 3,
   "metadata": {},
   "outputs": [],
   "source": [
    "# fetches commentry\n",
    "def commentary(mid):\n",
    "    c = Cricbuzz()\n",
    "    return c.commentary(mid)"
   ]
  },
  {
   "cell_type": "code",
   "execution_count": 4,
   "metadata": {},
   "outputs": [],
   "source": [
    "# fetches livescore\n",
    "def live_score(mid):\n",
    "    c = Cricbuzz()\n",
    "    return c.livescore(mid)"
   ]
  },
  {
   "cell_type": "code",
   "execution_count": 5,
   "metadata": {},
   "outputs": [],
   "source": [
    "# fetches scorecard\n",
    "def scorecard(mid):\n",
    "    c = Cricbuzz()\n",
    "    return c.scorecard(mid)"
   ]
  },
  {
   "cell_type": "code",
   "execution_count": 6,
   "metadata": {},
   "outputs": [],
   "source": [
    "match_ids = match_id()\n",
    "livescore=live_score(match_ids)\n",
    "comentary = commentary(match_ids)\n",
    "score_card = scorecard(match_ids)"
   ]
  },
  {
   "cell_type": "code",
   "execution_count": 7,
   "metadata": {},
   "outputs": [],
   "source": [
    "import schedule\n",
    "import time"
   ]
  },
  {
   "cell_type": "code",
   "execution_count": null,
   "metadata": {},
   "outputs": [],
   "source": [
    "#scheduling the task\n",
    "import os\n",
    "def job():\n",
    "    fname = 'score_card_copy.json'\n",
    "    if os.path.isfile(fname): \n",
    "        with open(fname, 'a') as fp:\n",
    "            json.dump(score_card, fp)\n",
    "    else:\n",
    "        with open(fname, 'w') as fp:\n",
    "            json.dump(score_card, fp)\n",
    "\n",
    "schedule.every(10).seconds.do(job)\n",
    "\n",
    "while 1:\n",
    "    schedule.run_pending()\n",
    "    time.sleep(1)"
   ]
  },
  {
   "cell_type": "code",
   "execution_count": null,
   "metadata": {},
   "outputs": [],
   "source": []
  }
 ],
 "metadata": {
  "kernelspec": {
   "display_name": "Python 3",
   "language": "python",
   "name": "python3"
  },
  "language_info": {
   "codemirror_mode": {
    "name": "ipython",
    "version": 3
   },
   "file_extension": ".py",
   "mimetype": "text/x-python",
   "name": "python",
   "nbconvert_exporter": "python",
   "pygments_lexer": "ipython3",
   "version": "3.8.3"
  }
 },
 "nbformat": 4,
 "nbformat_minor": 4
}
